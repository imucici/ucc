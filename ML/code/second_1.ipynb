{
 "cells": [
  {
   "cell_type": "code",
   "execution_count": 1,
   "metadata": {},
   "outputs": [
    {
     "name": "stderr",
     "output_type": "stream",
     "text": [
      "C:\\Users\\USER\\Anaconda3\\lib\\site-packages\\tensorflow\\python\\framework\\dtypes.py:516: FutureWarning: Passing (type, 1) or '1type' as a synonym of type is deprecated; in a future version of numpy, it will be understood as (type, (1,)) / '(1,)type'.\n",
      "  _np_qint8 = np.dtype([(\"qint8\", np.int8, 1)])\n",
      "C:\\Users\\USER\\Anaconda3\\lib\\site-packages\\tensorflow\\python\\framework\\dtypes.py:517: FutureWarning: Passing (type, 1) or '1type' as a synonym of type is deprecated; in a future version of numpy, it will be understood as (type, (1,)) / '(1,)type'.\n",
      "  _np_quint8 = np.dtype([(\"quint8\", np.uint8, 1)])\n",
      "C:\\Users\\USER\\Anaconda3\\lib\\site-packages\\tensorflow\\python\\framework\\dtypes.py:518: FutureWarning: Passing (type, 1) or '1type' as a synonym of type is deprecated; in a future version of numpy, it will be understood as (type, (1,)) / '(1,)type'.\n",
      "  _np_qint16 = np.dtype([(\"qint16\", np.int16, 1)])\n",
      "C:\\Users\\USER\\Anaconda3\\lib\\site-packages\\tensorflow\\python\\framework\\dtypes.py:519: FutureWarning: Passing (type, 1) or '1type' as a synonym of type is deprecated; in a future version of numpy, it will be understood as (type, (1,)) / '(1,)type'.\n",
      "  _np_quint16 = np.dtype([(\"quint16\", np.uint16, 1)])\n",
      "C:\\Users\\USER\\Anaconda3\\lib\\site-packages\\tensorflow\\python\\framework\\dtypes.py:520: FutureWarning: Passing (type, 1) or '1type' as a synonym of type is deprecated; in a future version of numpy, it will be understood as (type, (1,)) / '(1,)type'.\n",
      "  _np_qint32 = np.dtype([(\"qint32\", np.int32, 1)])\n",
      "C:\\Users\\USER\\Anaconda3\\lib\\site-packages\\tensorflow\\python\\framework\\dtypes.py:525: FutureWarning: Passing (type, 1) or '1type' as a synonym of type is deprecated; in a future version of numpy, it will be understood as (type, (1,)) / '(1,)type'.\n",
      "  np_resource = np.dtype([(\"resource\", np.ubyte, 1)])\n",
      "C:\\Users\\USER\\Anaconda3\\lib\\site-packages\\tensorboard\\compat\\tensorflow_stub\\dtypes.py:541: FutureWarning: Passing (type, 1) or '1type' as a synonym of type is deprecated; in a future version of numpy, it will be understood as (type, (1,)) / '(1,)type'.\n",
      "  _np_qint8 = np.dtype([(\"qint8\", np.int8, 1)])\n",
      "C:\\Users\\USER\\Anaconda3\\lib\\site-packages\\tensorboard\\compat\\tensorflow_stub\\dtypes.py:542: FutureWarning: Passing (type, 1) or '1type' as a synonym of type is deprecated; in a future version of numpy, it will be understood as (type, (1,)) / '(1,)type'.\n",
      "  _np_quint8 = np.dtype([(\"quint8\", np.uint8, 1)])\n",
      "C:\\Users\\USER\\Anaconda3\\lib\\site-packages\\tensorboard\\compat\\tensorflow_stub\\dtypes.py:543: FutureWarning: Passing (type, 1) or '1type' as a synonym of type is deprecated; in a future version of numpy, it will be understood as (type, (1,)) / '(1,)type'.\n",
      "  _np_qint16 = np.dtype([(\"qint16\", np.int16, 1)])\n",
      "C:\\Users\\USER\\Anaconda3\\lib\\site-packages\\tensorboard\\compat\\tensorflow_stub\\dtypes.py:544: FutureWarning: Passing (type, 1) or '1type' as a synonym of type is deprecated; in a future version of numpy, it will be understood as (type, (1,)) / '(1,)type'.\n",
      "  _np_quint16 = np.dtype([(\"quint16\", np.uint16, 1)])\n",
      "C:\\Users\\USER\\Anaconda3\\lib\\site-packages\\tensorboard\\compat\\tensorflow_stub\\dtypes.py:545: FutureWarning: Passing (type, 1) or '1type' as a synonym of type is deprecated; in a future version of numpy, it will be understood as (type, (1,)) / '(1,)type'.\n",
      "  _np_qint32 = np.dtype([(\"qint32\", np.int32, 1)])\n",
      "C:\\Users\\USER\\Anaconda3\\lib\\site-packages\\tensorboard\\compat\\tensorflow_stub\\dtypes.py:550: FutureWarning: Passing (type, 1) or '1type' as a synonym of type is deprecated; in a future version of numpy, it will be understood as (type, (1,)) / '(1,)type'.\n",
      "  np_resource = np.dtype([(\"resource\", np.ubyte, 1)])\n"
     ]
    }
   ],
   "source": [
    "# 安裝所需套件\n",
    "from sklearn import metrics\n",
    "import math\n",
    "import pandas as pd\n",
    "import numpy as np\n",
    "import matplotlib.pyplot as plt\n",
    "import seaborn as sns\n",
    "\n",
    "## EDA\n",
    "from sklearn.preprocessing import StandardScaler\n",
    "from sklearn.preprocessing import MinMaxScaler\n",
    "from sklearn.preprocessing import OneHotEncoder\n",
    "\n",
    "## 過採樣\n",
    "from imblearn.over_sampling import SMOTE\n",
    "from imblearn.pipeline import make_pipeline as imbalanced_make_pipeline\n",
    "\n",
    "\n",
    "# 績效指標\n",
    "from sklearn.metrics import roc_curve\n",
    "from sklearn.metrics import classification_report,precision_score,recall_score,f1_score,roc_auc_score\n",
    "from sklearn.metrics import auc\n",
    "from sklearn.metrics import confusion_matrix\n",
    "from sklearn.metrics import mean_squared_error\n",
    "from sklearn.metrics import r2_score\n",
    "\n",
    "## 建模\n",
    "from sklearn.model_selection import cross_val_score\n",
    "from sklearn.model_selection import train_test_split\n",
    "from sklearn.model_selection import StratifiedKFold\n",
    "from sklearn.decomposition import PCA\n",
    "\n",
    "from sklearn import neighbors\n",
    "from sklearn.neighbors import KNeighborsClassifier \n",
    "from sklearn.linear_model import LogisticRegression\n",
    "from sklearn.tree import DecisionTreeClassifier\n",
    "from sklearn import tree\n",
    "from sklearn.svm import SVC\n",
    "from sklearn.ensemble import RandomForestClassifier\n",
    "from sklearn.ensemble import GradientBoostingClassifier\n",
    "from imblearn.pipeline import make_pipeline, Pipeline\n",
    "from sklearn.linear_model import LinearRegression\n",
    "\n",
    "\n",
    "from sklearn.model_selection import RandomizedSearchCV\n",
    "from sklearn.model_selection import GridSearchCV\n",
    "import xgboost as xgb\n",
    "from xgboost import XGBRegressor\n",
    "import lightgbm as lgb"
   ]
  },
  {
   "cell_type": "code",
   "execution_count": 2,
   "metadata": {},
   "outputs": [],
   "source": [
    "#load data\n",
    "df2 = pd.read_csv(\"C:/Users/USER/Desktop/secondphase_test.csv\")\n",
    "\n",
    "# 將與weather_delay無關的特徵刪除\n",
    "df2.drop([\"CRS_DEP_TIME\",\"DEP_TIME\",\"DEP_DELAY\",\"CRS_ARR_TIME\",\"ARR_TIME\",\"ARR_DELAY\"\n",
    "          ,\"CRS_ELAPSED_TIME\",\"ACTUAL_ELAPSED_TIME\",\"AIR_TIME\"],axis=1,inplace=True)\n",
    "\n",
    "#將target欄位移至最後一欄\n",
    "target_col = df2.pop(df2.columns[4])\n",
    "df2.insert(18, target_col.name, target_col)"
   ]
  },
  {
   "cell_type": "code",
   "execution_count": 3,
   "metadata": {},
   "outputs": [],
   "source": [
    "# 1. 類別變數轉換\n",
    "# 值之間沒有大小的意義，用One-Hot(使用get_dummies)\n",
    "\n",
    "dummy = pd.get_dummies(df2[['ORIGIN','DEST']])\n",
    "\n",
    "# 將轉換後產生的dataframe塞入原始df2，並刪除ORIGIN、DEST\n",
    "df2 = pd.concat([dummy,df2],axis=1)\n",
    "df2.drop(['ORIGIN','DEST'],axis=1,inplace=True)"
   ]
  },
  {
   "cell_type": "code",
   "execution_count": 4,
   "metadata": {},
   "outputs": [
    {
     "data": {
      "text/html": [
       "<div>\n",
       "<style scoped>\n",
       "    .dataframe tbody tr th:only-of-type {\n",
       "        vertical-align: middle;\n",
       "    }\n",
       "\n",
       "    .dataframe tbody tr th {\n",
       "        vertical-align: top;\n",
       "    }\n",
       "\n",
       "    .dataframe thead th {\n",
       "        text-align: right;\n",
       "    }\n",
       "</style>\n",
       "<table border=\"1\" class=\"dataframe\">\n",
       "  <thead>\n",
       "    <tr style=\"text-align: right;\">\n",
       "      <th></th>\n",
       "      <th>ORIGIN_DAL</th>\n",
       "      <th>ORIGIN_HOU</th>\n",
       "      <th>ORIGIN_STL</th>\n",
       "      <th>DEST_BNA</th>\n",
       "      <th>DEST_DAL</th>\n",
       "      <th>DEST_HOU</th>\n",
       "      <th>Day</th>\n",
       "      <th>DISTANCE</th>\n",
       "      <th>DEP_HOUR</th>\n",
       "      <th>ARR_HOUR</th>\n",
       "      <th>...</th>\n",
       "      <th>DEP_HOURLYWindSpeed</th>\n",
       "      <th>DEP_HOURLYPrecip</th>\n",
       "      <th>DEP_evaporation</th>\n",
       "      <th>ARR_HOURLYVISIBILITY</th>\n",
       "      <th>ARR_HOURLYDewPointTempC</th>\n",
       "      <th>ARR_HOURLYRelativeHumidity</th>\n",
       "      <th>ARR_HOURLYWindSpeed</th>\n",
       "      <th>ARR_HOURLYPrecip</th>\n",
       "      <th>ARR_evaporation</th>\n",
       "      <th>WEATHER_DELAY</th>\n",
       "    </tr>\n",
       "  </thead>\n",
       "  <tbody>\n",
       "    <tr>\n",
       "      <td>0</td>\n",
       "      <td>0</td>\n",
       "      <td>1</td>\n",
       "      <td>0</td>\n",
       "      <td>0</td>\n",
       "      <td>1</td>\n",
       "      <td>0</td>\n",
       "      <td>1</td>\n",
       "      <td>239.0</td>\n",
       "      <td>15</td>\n",
       "      <td>16</td>\n",
       "      <td>...</td>\n",
       "      <td>11.0</td>\n",
       "      <td>0.00</td>\n",
       "      <td>6.5</td>\n",
       "      <td>6.0</td>\n",
       "      <td>16.1</td>\n",
       "      <td>24.0</td>\n",
       "      <td>7.0</td>\n",
       "      <td>0.0</td>\n",
       "      <td>5.2</td>\n",
       "      <td>2.274820</td>\n",
       "    </tr>\n",
       "    <tr>\n",
       "      <td>1</td>\n",
       "      <td>0</td>\n",
       "      <td>1</td>\n",
       "      <td>0</td>\n",
       "      <td>0</td>\n",
       "      <td>1</td>\n",
       "      <td>0</td>\n",
       "      <td>2</td>\n",
       "      <td>239.0</td>\n",
       "      <td>17</td>\n",
       "      <td>18</td>\n",
       "      <td>...</td>\n",
       "      <td>7.0</td>\n",
       "      <td>0.00</td>\n",
       "      <td>2.6</td>\n",
       "      <td>6.0</td>\n",
       "      <td>20.0</td>\n",
       "      <td>48.0</td>\n",
       "      <td>3.0</td>\n",
       "      <td>0.0</td>\n",
       "      <td>6.4</td>\n",
       "      <td>46.000000</td>\n",
       "    </tr>\n",
       "    <tr>\n",
       "      <td>2</td>\n",
       "      <td>0</td>\n",
       "      <td>1</td>\n",
       "      <td>0</td>\n",
       "      <td>1</td>\n",
       "      <td>0</td>\n",
       "      <td>0</td>\n",
       "      <td>3</td>\n",
       "      <td>670.0</td>\n",
       "      <td>17</td>\n",
       "      <td>19</td>\n",
       "      <td>...</td>\n",
       "      <td>6.0</td>\n",
       "      <td>0.00</td>\n",
       "      <td>6.6</td>\n",
       "      <td>10.0</td>\n",
       "      <td>17.2</td>\n",
       "      <td>69.0</td>\n",
       "      <td>8.0</td>\n",
       "      <td>0.0</td>\n",
       "      <td>3.8</td>\n",
       "      <td>5.000000</td>\n",
       "    </tr>\n",
       "    <tr>\n",
       "      <td>3</td>\n",
       "      <td>0</td>\n",
       "      <td>1</td>\n",
       "      <td>0</td>\n",
       "      <td>0</td>\n",
       "      <td>1</td>\n",
       "      <td>0</td>\n",
       "      <td>3</td>\n",
       "      <td>239.0</td>\n",
       "      <td>17</td>\n",
       "      <td>18</td>\n",
       "      <td>...</td>\n",
       "      <td>6.0</td>\n",
       "      <td>0.00</td>\n",
       "      <td>6.6</td>\n",
       "      <td>10.0</td>\n",
       "      <td>12.2</td>\n",
       "      <td>25.0</td>\n",
       "      <td>0.0</td>\n",
       "      <td>0.0</td>\n",
       "      <td>5.3</td>\n",
       "      <td>2.873459</td>\n",
       "    </tr>\n",
       "    <tr>\n",
       "      <td>4</td>\n",
       "      <td>0</td>\n",
       "      <td>1</td>\n",
       "      <td>0</td>\n",
       "      <td>1</td>\n",
       "      <td>0</td>\n",
       "      <td>0</td>\n",
       "      <td>4</td>\n",
       "      <td>670.0</td>\n",
       "      <td>17</td>\n",
       "      <td>19</td>\n",
       "      <td>...</td>\n",
       "      <td>5.0</td>\n",
       "      <td>0.00</td>\n",
       "      <td>5.7</td>\n",
       "      <td>10.0</td>\n",
       "      <td>15.6</td>\n",
       "      <td>64.0</td>\n",
       "      <td>6.0</td>\n",
       "      <td>0.0</td>\n",
       "      <td>4.2</td>\n",
       "      <td>1.008619</td>\n",
       "    </tr>\n",
       "    <tr>\n",
       "      <td>...</td>\n",
       "      <td>...</td>\n",
       "      <td>...</td>\n",
       "      <td>...</td>\n",
       "      <td>...</td>\n",
       "      <td>...</td>\n",
       "      <td>...</td>\n",
       "      <td>...</td>\n",
       "      <td>...</td>\n",
       "      <td>...</td>\n",
       "      <td>...</td>\n",
       "      <td>...</td>\n",
       "      <td>...</td>\n",
       "      <td>...</td>\n",
       "      <td>...</td>\n",
       "      <td>...</td>\n",
       "      <td>...</td>\n",
       "      <td>...</td>\n",
       "      <td>...</td>\n",
       "      <td>...</td>\n",
       "      <td>...</td>\n",
       "      <td>...</td>\n",
       "    </tr>\n",
       "    <tr>\n",
       "      <td>58</td>\n",
       "      <td>0</td>\n",
       "      <td>1</td>\n",
       "      <td>0</td>\n",
       "      <td>0</td>\n",
       "      <td>1</td>\n",
       "      <td>0</td>\n",
       "      <td>19</td>\n",
       "      <td>239.0</td>\n",
       "      <td>16</td>\n",
       "      <td>18</td>\n",
       "      <td>...</td>\n",
       "      <td>7.0</td>\n",
       "      <td>0.02</td>\n",
       "      <td>1.8</td>\n",
       "      <td>2.5</td>\n",
       "      <td>21.1</td>\n",
       "      <td>84.0</td>\n",
       "      <td>24.0</td>\n",
       "      <td>0.1</td>\n",
       "      <td>2.0</td>\n",
       "      <td>36.000000</td>\n",
       "    </tr>\n",
       "    <tr>\n",
       "      <td>59</td>\n",
       "      <td>0</td>\n",
       "      <td>1</td>\n",
       "      <td>0</td>\n",
       "      <td>0</td>\n",
       "      <td>1</td>\n",
       "      <td>0</td>\n",
       "      <td>19</td>\n",
       "      <td>239.0</td>\n",
       "      <td>16</td>\n",
       "      <td>18</td>\n",
       "      <td>...</td>\n",
       "      <td>7.0</td>\n",
       "      <td>0.02</td>\n",
       "      <td>1.8</td>\n",
       "      <td>2.5</td>\n",
       "      <td>21.1</td>\n",
       "      <td>84.0</td>\n",
       "      <td>24.0</td>\n",
       "      <td>0.1</td>\n",
       "      <td>2.0</td>\n",
       "      <td>9.000000</td>\n",
       "    </tr>\n",
       "    <tr>\n",
       "      <td>60</td>\n",
       "      <td>0</td>\n",
       "      <td>1</td>\n",
       "      <td>0</td>\n",
       "      <td>0</td>\n",
       "      <td>1</td>\n",
       "      <td>0</td>\n",
       "      <td>19</td>\n",
       "      <td>239.0</td>\n",
       "      <td>17</td>\n",
       "      <td>18</td>\n",
       "      <td>...</td>\n",
       "      <td>6.0</td>\n",
       "      <td>0.01</td>\n",
       "      <td>1.4</td>\n",
       "      <td>2.5</td>\n",
       "      <td>21.1</td>\n",
       "      <td>84.0</td>\n",
       "      <td>24.0</td>\n",
       "      <td>0.1</td>\n",
       "      <td>2.0</td>\n",
       "      <td>12.000000</td>\n",
       "    </tr>\n",
       "    <tr>\n",
       "      <td>61</td>\n",
       "      <td>1</td>\n",
       "      <td>0</td>\n",
       "      <td>0</td>\n",
       "      <td>0</td>\n",
       "      <td>0</td>\n",
       "      <td>1</td>\n",
       "      <td>9</td>\n",
       "      <td>239.0</td>\n",
       "      <td>15</td>\n",
       "      <td>16</td>\n",
       "      <td>...</td>\n",
       "      <td>14.0</td>\n",
       "      <td>0.00</td>\n",
       "      <td>6.6</td>\n",
       "      <td>10.0</td>\n",
       "      <td>22.2</td>\n",
       "      <td>65.0</td>\n",
       "      <td>11.0</td>\n",
       "      <td>0.0</td>\n",
       "      <td>4.7</td>\n",
       "      <td>2.704114</td>\n",
       "    </tr>\n",
       "    <tr>\n",
       "      <td>62</td>\n",
       "      <td>1</td>\n",
       "      <td>0</td>\n",
       "      <td>0</td>\n",
       "      <td>0</td>\n",
       "      <td>0</td>\n",
       "      <td>1</td>\n",
       "      <td>9</td>\n",
       "      <td>239.0</td>\n",
       "      <td>17</td>\n",
       "      <td>18</td>\n",
       "      <td>...</td>\n",
       "      <td>11.0</td>\n",
       "      <td>0.00</td>\n",
       "      <td>6.4</td>\n",
       "      <td>10.0</td>\n",
       "      <td>21.1</td>\n",
       "      <td>74.0</td>\n",
       "      <td>6.0</td>\n",
       "      <td>0.0</td>\n",
       "      <td>3.4</td>\n",
       "      <td>1.535550</td>\n",
       "    </tr>\n",
       "  </tbody>\n",
       "</table>\n",
       "<p>63 rows × 23 columns</p>\n",
       "</div>"
      ],
      "text/plain": [
       "    ORIGIN_DAL  ORIGIN_HOU  ORIGIN_STL  DEST_BNA  DEST_DAL  DEST_HOU  Day  \\\n",
       "0            0           1           0         0         1         0    1   \n",
       "1            0           1           0         0         1         0    2   \n",
       "2            0           1           0         1         0         0    3   \n",
       "3            0           1           0         0         1         0    3   \n",
       "4            0           1           0         1         0         0    4   \n",
       "..         ...         ...         ...       ...       ...       ...  ...   \n",
       "58           0           1           0         0         1         0   19   \n",
       "59           0           1           0         0         1         0   19   \n",
       "60           0           1           0         0         1         0   19   \n",
       "61           1           0           0         0         0         1    9   \n",
       "62           1           0           0         0         0         1    9   \n",
       "\n",
       "    DISTANCE  DEP_HOUR  ARR_HOUR  ...  DEP_HOURLYWindSpeed  DEP_HOURLYPrecip  \\\n",
       "0      239.0        15        16  ...                 11.0              0.00   \n",
       "1      239.0        17        18  ...                  7.0              0.00   \n",
       "2      670.0        17        19  ...                  6.0              0.00   \n",
       "3      239.0        17        18  ...                  6.0              0.00   \n",
       "4      670.0        17        19  ...                  5.0              0.00   \n",
       "..       ...       ...       ...  ...                  ...               ...   \n",
       "58     239.0        16        18  ...                  7.0              0.02   \n",
       "59     239.0        16        18  ...                  7.0              0.02   \n",
       "60     239.0        17        18  ...                  6.0              0.01   \n",
       "61     239.0        15        16  ...                 14.0              0.00   \n",
       "62     239.0        17        18  ...                 11.0              0.00   \n",
       "\n",
       "    DEP_evaporation  ARR_HOURLYVISIBILITY  ARR_HOURLYDewPointTempC  \\\n",
       "0               6.5                   6.0                     16.1   \n",
       "1               2.6                   6.0                     20.0   \n",
       "2               6.6                  10.0                     17.2   \n",
       "3               6.6                  10.0                     12.2   \n",
       "4               5.7                  10.0                     15.6   \n",
       "..              ...                   ...                      ...   \n",
       "58              1.8                   2.5                     21.1   \n",
       "59              1.8                   2.5                     21.1   \n",
       "60              1.4                   2.5                     21.1   \n",
       "61              6.6                  10.0                     22.2   \n",
       "62              6.4                  10.0                     21.1   \n",
       "\n",
       "    ARR_HOURLYRelativeHumidity  ARR_HOURLYWindSpeed  ARR_HOURLYPrecip  \\\n",
       "0                         24.0                  7.0               0.0   \n",
       "1                         48.0                  3.0               0.0   \n",
       "2                         69.0                  8.0               0.0   \n",
       "3                         25.0                  0.0               0.0   \n",
       "4                         64.0                  6.0               0.0   \n",
       "..                         ...                  ...               ...   \n",
       "58                        84.0                 24.0               0.1   \n",
       "59                        84.0                 24.0               0.1   \n",
       "60                        84.0                 24.0               0.1   \n",
       "61                        65.0                 11.0               0.0   \n",
       "62                        74.0                  6.0               0.0   \n",
       "\n",
       "    ARR_evaporation  WEATHER_DELAY  \n",
       "0               5.2       2.274820  \n",
       "1               6.4      46.000000  \n",
       "2               3.8       5.000000  \n",
       "3               5.3       2.873459  \n",
       "4               4.2       1.008619  \n",
       "..              ...            ...  \n",
       "58              2.0      36.000000  \n",
       "59              2.0       9.000000  \n",
       "60              2.0      12.000000  \n",
       "61              4.7       2.704114  \n",
       "62              3.4       1.535550  \n",
       "\n",
       "[63 rows x 23 columns]"
      ]
     },
     "execution_count": 4,
     "metadata": {},
     "output_type": "execute_result"
    }
   ],
   "source": [
    "df2"
   ]
  },
  {
   "cell_type": "code",
   "execution_count": 5,
   "metadata": {},
   "outputs": [],
   "source": [
    "## 由於features中有不用標準化的欄位(dummy)，加上標準化、split的返回結果是ndarray，\n",
    "## 因此要把不需要標準化的欄位獨立出來\n",
    "\n",
    "# 1.切分成訓練集、驗證集\n",
    "X = df2.iloc[:,:-1].values \n",
    "y = df2.iloc[:,-1].values\n",
    "y = np.log1p(y)\n",
    "\n",
    "X_trainval,X_test,y_trainval,y_test = train_test_split(X,y,test_size = 0.2,random_state = 10) \n",
    "\n",
    "# 2. 記錄不用標準化的欄位(type = dataframe)\n",
    "\n",
    "# ndarray to df\n",
    "Xtrainval = pd.DataFrame(X_trainval,columns = [str(i) for i in range(X_trainval.shape[1])])\n",
    "Xtest = pd.DataFrame(X_test,columns = [str(i) for i in range(X_test.shape[1])])\n",
    "\n",
    "## 目標df\n",
    "X_trainval_temp = Xtrainval[[\"0\",\"1\",\"2\",\"3\",\"4\",\"5\",'6',\"8\",\"9\"]]\n",
    "X_test_temp = Xtest[[\"0\",\"1\",\"2\",\"3\",\"4\",\"5\",'6',\"8\",\"9\"]]\n",
    "\n",
    "# 3. df to ndarray\n",
    "X_trainval_new = Xtrainval.to_numpy()\n",
    "X_test_new = Xtest.to_numpy()\n",
    "\n",
    "# 4. 標準化\n",
    "sc = StandardScaler().fit(X_trainval)\n",
    "x_train_std = sc.transform(X_trainval) ## 將規則用在訓練集\n",
    "x_test_std = sc.transform(X_test) ## 將規則用在測試集\n",
    "\n",
    "# 5. 將沒標準化的features放回df中\n",
    "xtrainval = pd.DataFrame(X_trainval,columns = [str(i) for i in range(X_trainval.shape[1])])\n",
    "xtest = pd.DataFrame(X_test,columns = [str(i) for i in range(X_test.shape[1])])\n",
    "\n",
    "xtrainval.drop([\"0\",\"1\",\"2\",\"3\",\"4\",\"5\",'6',\"8\",\"9\"],axis=1,inplace=True)\n",
    "xtest.drop([\"0\",\"1\",\"2\",\"3\",\"4\",\"5\",'6',\"8\",\"9\"],axis=1,inplace=True)\n",
    "\n",
    "del X_trainval\n",
    "del X_test\n",
    "\n",
    "X_trainval = pd.concat([X_trainval_temp,xtrainval],axis=1)\n",
    "X_test = pd.concat([X_test_temp,xtest],axis=1)\n",
    "\n",
    "# df to ndarray(為了進行SMOTE&CV)\n",
    "X_trainval = X_trainval.to_numpy()\n",
    "X_test = X_test.to_numpy()"
   ]
  },
  {
   "cell_type": "code",
   "execution_count": 6,
   "metadata": {},
   "outputs": [
    {
     "data": {
      "image/png": "[encoded data removed]",
      "text/plain": [
       "<Figure size 432x288 with 1 Axes>"
      ]
     },
     "metadata": {
      "needs_background": "light"
     },
     "output_type": "display_data"
    }
   ],
   "source": [
    "sns.distplot(y_trainval)\n",
    "#df2.loc[:,\"WEATHER_DELAY\"] = np.log1p(df2[\"WEATHER_DELAY\"])\n",
    "plt.show()"
   ]
  },
  {
   "cell_type": "code",
   "execution_count": 7,
   "metadata": {},
   "outputs": [
    {
     "data": {
      "image/png": "[encoded data removed]",
      "text/plain": [
       "<Figure size 432x288 with 1 Axes>"
      ]
     },
     "metadata": {
      "needs_background": "light"
     },
     "output_type": "display_data"
    }
   ],
   "source": [
    "sns.distplot(y_test)\n",
    "#df2.loc[:,\"WEATHER_DELAY\"] = np.log1p(df2[\"WEATHER_DELAY\"])\n",
    "plt.show()"
   ]
  },
  {
   "cell_type": "code",
   "execution_count": null,
   "metadata": {},
   "outputs": [],
   "source": []
  },
  {
   "cell_type": "markdown",
   "metadata": {},
   "source": [
    "### XGB+GridSearchCV"
   ]
  },
  {
   "cell_type": "markdown",
   "metadata": {},
   "source": [
    "* 粗調n_estimators"
   ]
  },
  {
   "cell_type": "code",
   "execution_count": 8,
   "metadata": {},
   "outputs": [
    {
     "name": "stdout",
     "output_type": "stream",
     "text": [
      "Fitting 5 folds for each of 7 candidates, totalling 35 fits\n"
     ]
    },
    {
     "name": "stderr",
     "output_type": "stream",
     "text": [
      "[Parallel(n_jobs=-1)]: Using backend LokyBackend with 8 concurrent workers.\n"
     ]
    },
    {
     "name": "stdout",
     "output_type": "stream",
     "text": [
      "[18:43:20] WARNING: C:/Users/Administrator/workspace/xgboost-win64_release_1.0.0/src/objective/regression_obj.cu:167: reg:linear is now deprecated in favor of reg:squarederror.\n",
      "参数的最佳取值：: {'n_estimators': 200}\n",
      "最佳模型得分: 0.2563039454265911\n"
     ]
    },
    {
     "name": "stderr",
     "output_type": "stream",
     "text": [
      "[Parallel(n_jobs=-1)]: Done  35 out of  35 | elapsed:    4.8s finished\n"
     ]
    }
   ],
   "source": [
    "other_params = {'learning_rate':0.1,'n_estimators': 400, 'max_depth': 3, 'min_child_weight': 1,'seed':1850,\n",
    "               'subsample': 0.8, 'colsample_bytree': 0.8,'colsample_bylevel':1,'reg_alpha':1,'reg_lambda':1,\n",
    "               'gamma':0.2,'objective':\"reg:linear\"}\n",
    "\n",
    "cv_params = {'n_estimators': [50,100,200,300,400,500,600]}\n",
    "\n",
    "\n",
    "model = xgb.XGBRegressor(**other_params) \n",
    "gs = GridSearchCV(model, cv_params, scoring='r2',verbose=2, cv=5, n_jobs=-1)\n",
    "\n",
    "gs.fit(X_trainval,y_trainval,eval_metric=\"rmse\")  ## 默認rmse\n",
    "\n",
    "print(\"参数的最佳取值：:\", gs.best_params_)\n",
    "print(\"最佳模型得分:\", gs.best_score_)"
   ]
  },
  {
   "cell_type": "markdown",
   "metadata": {},
   "source": [
    "* 細調n_estimators"
   ]
  },
  {
   "cell_type": "code",
   "execution_count": 9,
   "metadata": {},
   "outputs": [
    {
     "name": "stdout",
     "output_type": "stream",
     "text": [
      "Fitting 5 folds for each of 5 candidates, totalling 25 fits\n"
     ]
    },
    {
     "name": "stderr",
     "output_type": "stream",
     "text": [
      "[Parallel(n_jobs=-1)]: Using backend LokyBackend with 8 concurrent workers.\n",
      "[Parallel(n_jobs=-1)]: Done  10 out of  25 | elapsed:    0.0s remaining:    0.1s\n"
     ]
    },
    {
     "name": "stdout",
     "output_type": "stream",
     "text": [
      "[18:43:41] WARNING: C:/Users/Administrator/workspace/xgboost-win64_release_1.0.0/src/objective/regression_obj.cu:167: reg:linear is now deprecated in favor of reg:squarederror.\n",
      "参数的最佳取值：: {'n_estimators': 175}\n",
      "最佳模型得分: 0.2611058634181719\n"
     ]
    },
    {
     "name": "stderr",
     "output_type": "stream",
     "text": [
      "[Parallel(n_jobs=-1)]: Done  25 out of  25 | elapsed:    0.4s finished\n"
     ]
    }
   ],
   "source": [
    "other_params = {'learning_rate':0.1,'n_estimators': 400, 'max_depth': 3, 'min_child_weight': 1,'seed':1850,\n",
    "               'subsample': 0.8, 'colsample_bytree': 0.8,'colsample_bylevel':1,'reg_alpha':1,'reg_lambda':1,\n",
    "               'gamma':0.2,'objective':\"reg:linear\"}\n",
    "\n",
    "cv_params = {'n_estimators': [150,175,200,250,275]}\n",
    "\n",
    "model = xgb.XGBRegressor(**other_params) \n",
    "gs = GridSearchCV(model, cv_params, scoring='r2',verbose=2, cv=5, n_jobs=-1)\n",
    "\n",
    "gs.fit(X_trainval,y_trainval,eval_metric=\"rmse\")  ## 默認rmse\n",
    "\n",
    "print(\"参数的最佳取值：:\", gs.best_params_)\n",
    "print(\"最佳模型得分:\", gs.best_score_)"
   ]
  },
  {
   "cell_type": "markdown",
   "metadata": {},
   "source": [
    "* 粗調min_child_weight以及max_depth"
   ]
  },
  {
   "cell_type": "code",
   "execution_count": 10,
   "metadata": {},
   "outputs": [
    {
     "name": "stdout",
     "output_type": "stream",
     "text": [
      "Fitting 5 folds for each of 25 candidates, totalling 125 fits\n"
     ]
    },
    {
     "name": "stderr",
     "output_type": "stream",
     "text": [
      "[Parallel(n_jobs=-1)]: Using backend LokyBackend with 8 concurrent workers.\n",
      "[Parallel(n_jobs=-1)]: Done  52 tasks      | elapsed:    0.5s\n"
     ]
    },
    {
     "name": "stdout",
     "output_type": "stream",
     "text": [
      "[18:44:08] WARNING: C:/Users/Administrator/workspace/xgboost-win64_release_1.0.0/src/objective/regression_obj.cu:167: reg:linear is now deprecated in favor of reg:squarederror.\n",
      "参数的最佳取值：: {'max_depth': 5, 'min_child_weight': 1}\n",
      "最佳模型得分: 0.3317431459985186\n"
     ]
    },
    {
     "name": "stderr",
     "output_type": "stream",
     "text": [
      "[Parallel(n_jobs=-1)]: Done 125 out of 125 | elapsed:    1.0s finished\n"
     ]
    }
   ],
   "source": [
    "other_params = {'learning_rate':0.1,'n_estimators': 175, 'max_depth': 3, 'min_child_weight': 1,'seed':1850,\n",
    "               'subsample': 0.8, 'colsample_bytree': 0.8,'colsample_bylevel':1,'reg_alpha':1,'reg_lambda':1,\n",
    "               'gamma':0.2,'objective':\"reg:linear\"}\n",
    "\n",
    "cv_params = {'min_child_weight': [1,2,3,4,5],\"max_depth\":[3,4,5,6,7]}\n",
    "\n",
    "model = xgb.XGBRegressor(**other_params) \n",
    "gs = GridSearchCV(model, cv_params, scoring='r2',verbose=2, cv=5, n_jobs=-1)\n",
    "\n",
    "gs.fit(X_trainval,y_trainval,eval_metric=\"rmse\")  ## 默認rmse\n",
    "\n",
    "print(\"参数的最佳取值：:\", gs.best_params_)\n",
    "print(\"最佳模型得分:\", gs.best_score_) "
   ]
  },
  {
   "cell_type": "markdown",
   "metadata": {},
   "source": [
    "* 粗調gamma"
   ]
  },
  {
   "cell_type": "code",
   "execution_count": 11,
   "metadata": {},
   "outputs": [
    {
     "name": "stdout",
     "output_type": "stream",
     "text": [
      "Fitting 5 folds for each of 11 candidates, totalling 55 fits\n"
     ]
    },
    {
     "name": "stderr",
     "output_type": "stream",
     "text": [
      "[Parallel(n_jobs=-1)]: Using backend LokyBackend with 8 concurrent workers.\n",
      "[Parallel(n_jobs=-1)]: Done  12 out of  55 | elapsed:    0.1s remaining:    0.7s\n",
      "[Parallel(n_jobs=-1)]: Done  40 out of  55 | elapsed:    0.4s remaining:    0.1s\n",
      "[Parallel(n_jobs=-1)]: Done  55 out of  55 | elapsed:    0.6s finished\n"
     ]
    },
    {
     "name": "stdout",
     "output_type": "stream",
     "text": [
      "[18:44:36] WARNING: C:/Users/Administrator/workspace/xgboost-win64_release_1.0.0/src/objective/regression_obj.cu:167: reg:linear is now deprecated in favor of reg:squarederror.\n",
      "参数的最佳取值：: {'gamma': 0}\n",
      "最佳模型得分: 0.3685016567270184\n"
     ]
    }
   ],
   "source": [
    "other_params = {'learning_rate':0.1,'n_estimators': 175, 'max_depth': 5, 'min_child_weight': 1,'seed':1850,\n",
    "               'subsample': 0.8, 'colsample_bytree': 0.8,'colsample_bylevel':1,'reg_alpha':1,'reg_lambda':1,\n",
    "               'gamma':0.2,'objective':\"reg:linear\"}\n",
    "\n",
    "cv_params = {\"gamma\":[0,0.1,0.2,0.3,0.4,0.5,0.6,0.7,0.8,0.9,1]}\n",
    "\n",
    "model = xgb.XGBRegressor(**other_params) \n",
    "gs = GridSearchCV(model, cv_params, scoring='r2',verbose=2, cv=5, n_jobs=-1)\n",
    "\n",
    "gs.fit(X_trainval,y_trainval,eval_metric=\"rmse\")  ## 默認rmse\n",
    "\n",
    "print(\"参数的最佳取值：:\", gs.best_params_)\n",
    "print(\"最佳模型得分:\", gs.best_score_) "
   ]
  },
  {
   "cell_type": "markdown",
   "metadata": {},
   "source": [
    "* 粗調subsample"
   ]
  },
  {
   "cell_type": "code",
   "execution_count": 12,
   "metadata": {},
   "outputs": [
    {
     "name": "stdout",
     "output_type": "stream",
     "text": [
      "Fitting 5 folds for each of 11 candidates, totalling 55 fits\n"
     ]
    },
    {
     "name": "stderr",
     "output_type": "stream",
     "text": [
      "[Parallel(n_jobs=-1)]: Using backend LokyBackend with 8 concurrent workers.\n",
      "[Parallel(n_jobs=-1)]: Done  12 out of  55 | elapsed:    0.0s remaining:    0.4s\n"
     ]
    },
    {
     "name": "stdout",
     "output_type": "stream",
     "text": [
      "[18:45:08] WARNING: C:/Users/Administrator/workspace/xgboost-win64_release_1.0.0/src/objective/regression_obj.cu:167: reg:linear is now deprecated in favor of reg:squarederror.\n",
      "参数的最佳取值：: {'subsample': 0.5}\n",
      "最佳模型得分: 0.3839494048853235\n"
     ]
    },
    {
     "name": "stderr",
     "output_type": "stream",
     "text": [
      "[Parallel(n_jobs=-1)]: Done  55 out of  55 | elapsed:    0.3s finished\n"
     ]
    }
   ],
   "source": [
    "other_params = {'learning_rate':0.1,'n_estimators': 175, 'max_depth': 5, 'min_child_weight': 1,'seed':1850,\n",
    "               'subsample': 0.8, 'colsample_bytree': 0.8,'colsample_bylevel':1,'reg_alpha':1,'reg_lambda':1,\n",
    "               'gamma':0,'objective':\"reg:linear\"}\n",
    "\n",
    "cv_params = {\"subsample\":[0,0.1,0.2,0.3,0.4,0.5,0.6,0.7,0.8,0.9,1]}\n",
    "\n",
    "model = xgb.XGBRegressor(**other_params) \n",
    "gs = GridSearchCV(model, cv_params, scoring='r2',verbose=2, cv=5, n_jobs=-1)\n",
    "\n",
    "gs.fit(X_trainval,y_trainval,eval_metric=\"rmse\")  ## 默認rmse\n",
    "\n",
    "print(\"参数的最佳取值：:\", gs.best_params_)\n",
    "print(\"最佳模型得分:\", gs.best_score_) "
   ]
  },
  {
   "cell_type": "markdown",
   "metadata": {},
   "source": [
    "* 粗調colsample_bytree"
   ]
  },
  {
   "cell_type": "code",
   "execution_count": 14,
   "metadata": {},
   "outputs": [
    {
     "name": "stdout",
     "output_type": "stream",
     "text": [
      "Fitting 5 folds for each of 10 candidates, totalling 50 fits\n"
     ]
    },
    {
     "name": "stderr",
     "output_type": "stream",
     "text": [
      "[Parallel(n_jobs=-1)]: Using backend LokyBackend with 8 concurrent workers.\n",
      "[Parallel(n_jobs=-1)]: Done   9 out of  50 | elapsed:    0.0s remaining:    0.5s\n"
     ]
    },
    {
     "name": "stdout",
     "output_type": "stream",
     "text": [
      "[18:45:31] WARNING: C:/Users/Administrator/workspace/xgboost-win64_release_1.0.0/src/objective/regression_obj.cu:167: reg:linear is now deprecated in favor of reg:squarederror.\n",
      "参数的最佳取值：: {'colsample_bytree': 0.7}\n",
      "最佳模型得分: 0.44678463648796346\n"
     ]
    },
    {
     "name": "stderr",
     "output_type": "stream",
     "text": [
      "[Parallel(n_jobs=-1)]: Done  50 out of  50 | elapsed:    0.4s finished\n"
     ]
    }
   ],
   "source": [
    "other_params = {'learning_rate':0.1,'n_estimators': 175, 'max_depth': 5, 'min_child_weight': 1,'seed':1850,\n",
    "               'subsample': 0.5, 'colsample_bytree': 0.8,'colsample_bylevel':1,'reg_alpha':1,'reg_lambda':1,\n",
    "               'gamma':0,'objective':\"reg:linear\"}\n",
    "\n",
    "cv_params = {\"colsample_bytree\":[0.1, 0.2, 0.3, 0.4, 0.5, 0.6, 0.7, 0.8, 0.9, 1]}\n",
    "\n",
    "model = xgb.XGBRegressor(**other_params) \n",
    "gs = GridSearchCV(model, cv_params, scoring='r2',verbose=2, cv=5, n_jobs=-1)\n",
    "\n",
    "gs.fit(X_trainval,y_trainval,eval_metric=\"rmse\")  ## 默認rmse\n",
    "\n",
    "print(\"参数的最佳取值：:\", gs.best_params_)\n",
    "print(\"最佳模型得分:\", gs.best_score_) "
   ]
  },
  {
   "cell_type": "markdown",
   "metadata": {},
   "source": [
    "* 粗調reg_alpha"
   ]
  },
  {
   "cell_type": "code",
   "execution_count": 15,
   "metadata": {},
   "outputs": [
    {
     "name": "stdout",
     "output_type": "stream",
     "text": [
      "Fitting 5 folds for each of 11 candidates, totalling 55 fits\n"
     ]
    },
    {
     "name": "stderr",
     "output_type": "stream",
     "text": [
      "[Parallel(n_jobs=-1)]: Using backend LokyBackend with 8 concurrent workers.\n",
      "[Parallel(n_jobs=-1)]: Done  12 out of  55 | elapsed:    0.1s remaining:    0.6s\n",
      "[Parallel(n_jobs=-1)]: Done  40 out of  55 | elapsed:    0.2s remaining:    0.0s\n"
     ]
    },
    {
     "name": "stdout",
     "output_type": "stream",
     "text": [
      "[18:46:10] WARNING: C:/Users/Administrator/workspace/xgboost-win64_release_1.0.0/src/objective/regression_obj.cu:167: reg:linear is now deprecated in favor of reg:squarederror.\n",
      "参数的最佳取值：: {'reg_alpha': 1}\n",
      "最佳模型得分: 0.44678463648796346\n"
     ]
    },
    {
     "name": "stderr",
     "output_type": "stream",
     "text": [
      "[Parallel(n_jobs=-1)]: Done  55 out of  55 | elapsed:    0.3s finished\n"
     ]
    }
   ],
   "source": [
    "other_params = {'learning_rate':0.1,'n_estimators': 175, 'max_depth': 5, 'min_child_weight': 1,'seed':1850,\n",
    "               'subsample': 0.5, 'colsample_bytree': 0.7,'colsample_bylevel':1,'reg_alpha':1,'reg_lambda':1,\n",
    "               'gamma':0,'objective':\"reg:linear\"}\n",
    "\n",
    "\n",
    "cv_params = {\"reg_alpha\":[0,1,2,3,4,5,6,7,8,9,10]}\n",
    "\n",
    "model = xgb.XGBRegressor(**other_params) \n",
    "gs = GridSearchCV(model, cv_params, scoring='r2',verbose=2, cv=5, n_jobs=-1)\n",
    "\n",
    "gs.fit(X_trainval,y_trainval,eval_metric=\"rmse\")  ## 默認rmse\n",
    "\n",
    "print(\"参数的最佳取值：:\", gs.best_params_)\n",
    "print(\"最佳模型得分:\", gs.best_score_) "
   ]
  },
  {
   "cell_type": "markdown",
   "metadata": {},
   "source": [
    "* 粗調reg_lambda"
   ]
  },
  {
   "cell_type": "code",
   "execution_count": 16,
   "metadata": {},
   "outputs": [
    {
     "name": "stdout",
     "output_type": "stream",
     "text": [
      "Fitting 5 folds for each of 5 candidates, totalling 25 fits\n"
     ]
    },
    {
     "name": "stderr",
     "output_type": "stream",
     "text": [
      "[Parallel(n_jobs=-1)]: Using backend LokyBackend with 8 concurrent workers.\n",
      "[Parallel(n_jobs=-1)]: Done  10 out of  25 | elapsed:    0.0s remaining:    0.1s\n"
     ]
    },
    {
     "name": "stdout",
     "output_type": "stream",
     "text": [
      "[18:46:35] WARNING: C:/Users/Administrator/workspace/xgboost-win64_release_1.0.0/src/objective/regression_obj.cu:167: reg:linear is now deprecated in favor of reg:squarederror.\n",
      "参数的最佳取值：: {'reg_lambda': 2}\n",
      "最佳模型得分: 0.45419524336056866\n"
     ]
    },
    {
     "name": "stderr",
     "output_type": "stream",
     "text": [
      "[Parallel(n_jobs=-1)]: Done  25 out of  25 | elapsed:    0.2s finished\n"
     ]
    }
   ],
   "source": [
    "other_params = {'learning_rate':0.1,'n_estimators': 175, 'max_depth': 5, 'min_child_weight': 1,'seed':1850,\n",
    "               'subsample': 0.5, 'colsample_bytree': 0.7,'colsample_bylevel':1,'reg_alpha':1,'reg_lambda':1,\n",
    "               'gamma':0,'objective':\"reg:linear\"}\n",
    "\n",
    "\n",
    "cv_params = {\"reg_lambda\":[0.05, 0.1, 1, 2, 3]}\n",
    "\n",
    "model = xgb.XGBRegressor(**other_params) \n",
    "gs = GridSearchCV(model, cv_params, scoring='r2',verbose=2, cv=5, n_jobs=-1)\n",
    "\n",
    "gs.fit(X_trainval,y_trainval,eval_metric=\"rmse\")  ## 默認rmse\n",
    "\n",
    "print(\"参数的最佳取值：:\", gs.best_params_)\n",
    "print(\"最佳模型得分:\", gs.best_score_) "
   ]
  },
  {
   "cell_type": "markdown",
   "metadata": {},
   "source": [
    "* 細調reg_lambda"
   ]
  },
  {
   "cell_type": "code",
   "execution_count": 17,
   "metadata": {},
   "outputs": [
    {
     "name": "stdout",
     "output_type": "stream",
     "text": [
      "Fitting 5 folds for each of 10 candidates, totalling 50 fits\n"
     ]
    },
    {
     "name": "stderr",
     "output_type": "stream",
     "text": [
      "[Parallel(n_jobs=-1)]: Using backend LokyBackend with 8 concurrent workers.\n",
      "[Parallel(n_jobs=-1)]: Done   9 out of  50 | elapsed:    0.0s remaining:    0.5s\n"
     ]
    },
    {
     "name": "stdout",
     "output_type": "stream",
     "text": [
      "[18:46:59] WARNING: C:/Users/Administrator/workspace/xgboost-win64_release_1.0.0/src/objective/regression_obj.cu:167: reg:linear is now deprecated in favor of reg:squarederror.\n",
      "参数的最佳取值：: {'reg_lambda': 2}\n",
      "最佳模型得分: 0.45419524336056866\n"
     ]
    },
    {
     "name": "stderr",
     "output_type": "stream",
     "text": [
      "[Parallel(n_jobs=-1)]: Done  50 out of  50 | elapsed:    0.3s finished\n"
     ]
    }
   ],
   "source": [
    "other_params = {'learning_rate':0.1,'n_estimators': 175, 'max_depth': 5, 'min_child_weight': 1,'seed':1850,\n",
    "               'subsample': 0.5, 'colsample_bytree': 0.7,'colsample_bylevel':1,'reg_alpha':1,'reg_lambda':2,\n",
    "               'gamma':0,'objective':\"reg:linear\"}\n",
    "\n",
    "cv_params = {\"reg_lambda\":[1.1,1.2,1.3,1.4,1.5,1.6,1.7,1.8,1.9,2]}\n",
    "\n",
    "model = xgb.XGBRegressor(**other_params) \n",
    "gs = GridSearchCV(model, cv_params, scoring='r2',verbose=2, cv=5, n_jobs=-1)\n",
    "\n",
    "gs.fit(X_trainval,y_trainval,eval_metric=\"rmse\")  ## 默認rmse\n",
    "\n",
    "print(\"参数的最佳取值：:\", gs.best_params_)\n",
    "print(\"最佳模型得分:\", gs.best_score_) "
   ]
  },
  {
   "cell_type": "markdown",
   "metadata": {},
   "source": [
    "* 粗調learning_rate"
   ]
  },
  {
   "cell_type": "code",
   "execution_count": 18,
   "metadata": {},
   "outputs": [
    {
     "name": "stdout",
     "output_type": "stream",
     "text": [
      "Fitting 5 folds for each of 7 candidates, totalling 35 fits\n"
     ]
    },
    {
     "name": "stderr",
     "output_type": "stream",
     "text": [
      "[Parallel(n_jobs=-1)]: Using backend LokyBackend with 8 concurrent workers.\n"
     ]
    },
    {
     "name": "stdout",
     "output_type": "stream",
     "text": [
      "[18:47:16] WARNING: C:/Users/Administrator/workspace/xgboost-win64_release_1.0.0/src/objective/regression_obj.cu:167: reg:linear is now deprecated in favor of reg:squarederror.\n",
      "参数的最佳取值：: {'learning_rate': 0.1}\n",
      "最佳模型得分: 0.45419524336056866\n"
     ]
    },
    {
     "name": "stderr",
     "output_type": "stream",
     "text": [
      "[Parallel(n_jobs=-1)]: Done  35 out of  35 | elapsed:    0.2s finished\n"
     ]
    }
   ],
   "source": [
    "other_params = {'learning_rate':0.1,'n_estimators': 175, 'max_depth': 5, 'min_child_weight': 1,'seed':1850,\n",
    "               'subsample': 0.5, 'colsample_bytree': 0.7,'colsample_bylevel':1,'reg_alpha':1,'reg_lambda':2,\n",
    "               'gamma':0,'objective':\"reg:linear\"}\n",
    "\n",
    "cv_params = {\"learning_rate\":[0.01, 0.05, 0.07, 0.1]}\n",
    "\n",
    "model = xgb.XGBRegressor(**other_params) \n",
    "gs = GridSearchCV(model, cv_params, scoring='r2',verbose=2, cv=5, n_jobs=-1)\n",
    "\n",
    "gs.fit(X_trainval,y_trainval,eval_metric=\"rmse\")  ## 默認rmse\n",
    "\n",
    "print(\"参数的最佳取值：:\", gs.best_params_)\n",
    "print(\"最佳模型得分:\", gs.best_score_) "
   ]
  },
  {
   "cell_type": "markdown",
   "metadata": {},
   "source": [
    "* 使用最佳參數建模"
   ]
  },
  {
   "cell_type": "code",
   "execution_count": 19,
   "metadata": {},
   "outputs": [
    {
     "name": "stdout",
     "output_type": "stream",
     "text": [
      "[18:47:47] WARNING: C:/Users/Administrator/workspace/xgboost-win64_release_1.0.0/src/objective/regression_obj.cu:167: reg:linear is now deprecated in favor of reg:squarederror.\n",
      "訓練集mes: 0.22998937422348073\n",
      "訓練集r2: 0.9628199241418064\n",
      "-----------------------------\n",
      "測試集mes: 0.47306302181892795\n",
      "測試集r2: 0.25792230233665814\n"
     ]
    }
   ],
   "source": [
    "other_params = {'learning_rate':0.1,'n_estimators': 175, 'max_depth': 5, 'min_child_weight': 1,'seed':1850,\n",
    "               'subsample': 0.5, 'colsample_bytree': 0.7,'colsample_bylevel':1,'reg_alpha':1,'reg_lambda':2,\n",
    "               'gamma':0.0,'objective':\"reg:linear\"}\n",
    "\n",
    "\n",
    "model.fit(X_trainval,y_trainval)  ## 默認rmse\n",
    "\n",
    "\n",
    "# 訓練集\n",
    "y_trainval_pred = model.predict(X_trainval)\n",
    "mse = np.sqrt(mean_squared_error(y_trainval, y_trainval_pred))\n",
    "print(\"訓練集mes:\",mse)\n",
    "r2 = metrics.r2_score(y_trainval,y_trainval_pred)\n",
    "print(\"訓練集r2:\",r2)\n",
    "print(\"-----------------------------\")\n",
    "\n",
    "#測試集\n",
    "y_test_pred = model.predict(X_test)\n",
    "mse = np.sqrt(mean_squared_error(y_test, y_test_pred))\n",
    "print(\"測試集mes:\",mse)\n",
    "r2 = metrics.r2_score(y_test, y_test_pred)\n",
    "print(\"測試集r2:\",r2)"
   ]
  },
  {
   "cell_type": "code",
   "execution_count": 20,
   "metadata": {},
   "outputs": [
    {
     "data": {
      "image/png": "[encoded data removed]",
      "text/plain": [
       "<Figure size 432x288 with 1 Axes>"
      ]
     },
     "metadata": {
      "needs_background": "light"
     },
     "output_type": "display_data"
    }
   ],
   "source": [
    "import matplotlib.pyplot as plt\n",
    "\n",
    "plt.figure()\n",
    "\n",
    "plt.scatter(y_test_pred,y_test,marker='X',s=5,c='blue')\n",
    "\n",
    "plt.scatter(y_trainval_pred,y_trainval,marker='X',s=5,c='red')\n",
    "\n",
    "plt.title('XGBRegressor training set & test set prediction vs true')\n",
    "\n",
    "plt.xlabel('y_test_pred')\n",
    "\n",
    "plt.ylabel('y_true value')\n",
    "\n",
    "plt.show()"
   ]
  },
  {
   "cell_type": "code",
   "execution_count": null,
   "metadata": {},
   "outputs": [],
   "source": []
  }
 ],
 "metadata": {
  "kernelspec": {
   "display_name": "Python 3",
   "language": "python",
   "name": "python3"
  },
  "language_info": {
   "codemirror_mode": {
    "name": "ipython",
    "version": 3
   },
   "file_extension": ".py",
   "mimetype": "text/x-python",
   "name": "python",
   "nbconvert_exporter": "python",
   "pygments_lexer": "ipython3",
   "version": "3.7.4"
  }
 },
 "nbformat": 4,
 "nbformat_minor": 2
}
